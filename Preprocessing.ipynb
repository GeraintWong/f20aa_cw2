{
 "cells": [
  {
   "cell_type": "code",
   "execution_count": null,
   "id": "addbbc6e-f53a-49ce-9d6e-6aa9aca98c45",
   "metadata": {},
   "outputs": [],
   "source": [
    "!pip install contractions"
   ]
  },
  {
   "cell_type": "code",
   "execution_count": 127,
   "id": "3b614ef7-eb69-4a3c-9699-75749e7aa931",
   "metadata": {},
   "outputs": [
    {
     "name": "stdout",
     "output_type": "stream",
     "text": [
      "Index(['Score', 'Text'], dtype='object')\n",
      "0    I received this product early from the seller!...\n",
      "1    *****<br />Numi's Collection Assortment Melang...\n",
      "2    I was very careful not to overcook this pasta,...\n",
      "3    Buying this multi-pack I was misled by the pic...\n",
      "4    These bars are so good! I loved them warmed up...\n",
      "Name: Text, dtype: object\n"
     ]
    }
   ],
   "source": [
    "import pandas as pd\n",
    "data = '../Downloads/train.csv'\n",
    "train_df = pd.read_csv(data)\n",
    "print(train_df.columns)\n",
    "print(train_df[\"Text\"].head())"
   ]
  },
  {
   "cell_type": "code",
   "execution_count": 69,
   "id": "2568e1c8-cc67-466b-97e0-d987f833d576",
   "metadata": {},
   "outputs": [
    {
     "name": "stderr",
     "output_type": "stream",
     "text": [
      "[nltk_data] Downloading package stopwords to\n",
      "[nltk_data]     /Users/geraint/nltk_data...\n",
      "[nltk_data]   Package stopwords is already up-to-date!\n",
      "[nltk_data] Downloading package punkt to /Users/geraint/nltk_data...\n",
      "[nltk_data]   Package punkt is already up-to-date!\n",
      "[nltk_data] Downloading package wordnet to /Users/geraint/nltk_data...\n",
      "[nltk_data]   Package wordnet is already up-to-date!\n",
      "[nltk_data] Downloading package averaged_perceptron_tagger to\n",
      "[nltk_data]     /Users/geraint/nltk_data...\n",
      "[nltk_data]   Package averaged_perceptron_tagger is already up-to-\n",
      "[nltk_data]       date!\n",
      "[nltk_data] Downloading package omw-1.4 to /Users/geraint/nltk_data...\n",
      "[nltk_data]   Package omw-1.4 is already up-to-date!\n"
     ]
    }
   ],
   "source": [
    "import pandas as pd\n",
    "import string\n",
    "import re\n",
    "import nltk\n",
    "from nltk.corpus import stopwords, wordnet\n",
    "from nltk.tokenize import word_tokenize\n",
    "from nltk.stem import WordNetLemmatizer\n",
    "from nltk import pos_tag\n",
    "import contractions\n",
    "\n",
    "# Download necessary resources\n",
    "nltk.download('stopwords')\n",
    "nltk.download('punkt')\n",
    "nltk.download('wordnet')\n",
    "nltk.download('averaged_perceptron_tagger')\n",
    "nltk.download('omw-1.4')\n",
    "\n",
    "# Initialize lemmatizer\n",
    "lemmatizer = WordNetLemmatizer()\n",
    "\n",
    "def get_wordnet_pos(word):\n",
    "    \"\"\"Converts POS tags to a format recognized by WordNet lemmatizer.\"\"\"\n",
    "    tag = pos_tag([word])[0][1][0].upper()\n",
    "    tag_dict = {\"J\": wordnet.ADJ, \"N\": wordnet.NOUN, \"V\": wordnet.VERB, \"R\": wordnet.ADV}\n",
    "    return tag_dict.get(tag, wordnet.NOUN)\n",
    "\n",
    "def preprocess_text(df, text_column='Text'):\n",
    "    \"\"\"\n",
    "    Preprocesses text data by:\n",
    "    - Converting to lowercase\n",
    "    - Removing punctuation\n",
    "    - Removing HTML and URLs\n",
    "    - Removing digits\n",
    "    - Expanding contractions\n",
    "    - Removing stopwords\n",
    "    - Tokenizing\n",
    "    - Lemmatizing\n",
    "    \n",
    "    Args:\n",
    "        df (pd.DataFrame): DataFrame containing text data.\n",
    "        text_column (str): Name of the column containing text.\n",
    "    \n",
    "    Returns:\n",
    "        pd.DataFrame: Processed DataFrame with a new column 'Text_Processed'.\n",
    "    \"\"\"\n",
    "    df = df.copy()\n",
    "    \n",
    "    df['Text_Processed'] = df[text_column].replace(r'<a\\s+href=\"http[^\"]*\">|</a>', '', regex=True)\n",
    "    \n",
    "    df['Text_Processed'] = df['Text_Processed'].astype(str).str.lower()\n",
    "    \n",
    "    df['Text_Processed'] = df['Text_Processed'].str.translate(str.maketrans('', '', string.punctuation))\n",
    "    \n",
    "    # Remove digits\n",
    "    df['Text_Processed'] = df['Text_Processed'].replace(r'\\d+', '', regex=True)\n",
    "    \n",
    "    # Expand contractions and remove stopwords\n",
    "    stop_words = set(stopwords.words('english'))\n",
    "    def expand_and_remove_stopwords(text):\n",
    "        expanded_text = contractions.fix(text)\n",
    "        words = expanded_text.split()\n",
    "        return ' '.join([word for word in words if word.lower() not in stop_words])\n",
    "    \n",
    "    df['Text_Processed'] = df['Text_Processed'].apply(expand_and_remove_stopwords)\n",
    "    \n",
    "    # Tokenization and Lemmatization\n",
    "    def tokenize_and_lemmatize(text):\n",
    "        tokens = word_tokenize(text)\n",
    "        return ' '.join([lemmatizer.lemmatize(word, get_wordnet_pos(word)) for word in tokens])\n",
    "    \n",
    "    df['Text_Processed'] = df['Text_Processed'].apply(tokenize_and_lemmatize)\n",
    "    \n",
    "    # Save to new CSV file\n",
    "    df.to_csv('train_processed.csv', index=False)\n",
    "    return df\n",
    "\n",
    "train_df = preprocess_text(train_df)"
   ]
  },
  {
   "cell_type": "code",
   "execution_count": 133,
   "id": "3e874566-374b-4613-9eab-73c8d4a5c33b",
   "metadata": {},
   "outputs": [
    {
     "name": "stdout",
     "output_type": "stream",
     "text": [
      "Index(['Id', 'Text'], dtype='object')\n",
      "0    Fog chaser was the best both in flavor and bod...\n",
      "1    We found this at PF Changs, and it tastes just...\n",
      "2    Not quite a chocolate bar substitute but delic...\n",
      "3    This is not as tasty as Pamela's Almond Biscot...\n",
      "4    <a href=\"http://www.amazon.com/gp/product/B000...\n",
      "Name: Text, dtype: object\n"
     ]
    }
   ],
   "source": [
    "data = '../Downloads/test.csv'\n",
    "test_df = pd.read_csv(data)\n",
    "print(test_df.columns)\n",
    "print(test_df[\"Text\"].head())"
   ]
  },
  {
   "cell_type": "code",
   "execution_count": 134,
   "id": "bd8d191b-9859-4686-be9e-658653c443fb",
   "metadata": {},
   "outputs": [
    {
     "name": "stdout",
     "output_type": "stream",
     "text": [
      "\n",
      "Decoded Text: Решила заказать эти желатинки, т.к. дочка пошла в школу и требует сладости. Очень удобная упаковка. Как раз столько конфет, как и требуется, чтобы сьесть их за перемену.\n",
      "       Score                                               Text\n",
      "98055      5  I had great feeling hair after using this prod...\n",
      "98056      5  I've recently brought the Skinnygirl Pina Cola...\n",
      "98057      2  I love the product.  But, the bottle design is...\n",
      "98058      5  It's so nice to have a vegetarian Jello.  I ad...\n",
      "98059      3  I get this olive oil through Subscribe and Sav...\n",
      "98060      3  Решила заказать эти желатинки, т.к. дочка пошл...\n",
      "98061      1  This WAS a great everyday coffee until Green M...\n",
      "98062      1  I bought these because of the good reviews and...\n",
      "98063      5  I'm so thankful that Trader Joe's is selling s...\n",
      "98064      5  Excellent crunch. Very fresh. Big size bags. T...\n"
     ]
    }
   ],
   "source": [
    "import html\n",
    "\n",
    "problematic_text = test_df.loc[98060, \"Text\"]\n",
    "\n",
    "try:\n",
    "    decoded_text = html.unescape(problematic_text)\n",
    "    print(f\"\\nDecoded Text: {decoded_text}\")\n",
    "    train_df.loc[98060, \"Text\"] = decoded_text \n",
    "except Exception as e:\n",
    "    print(f\"\\nDecoding failed: {e}\")\n",
    "    decoded_text = problematic_text  \n",
    "\n",
    "print(train_df.iloc[98055:98065])"
   ]
  },
  {
   "cell_type": "code",
   "execution_count": 137,
   "id": "c1017ace-8639-41db-8c34-901a88630b0c",
   "metadata": {},
   "outputs": [
    {
     "name": "stdout",
     "output_type": "stream",
     "text": [
      "          Id                                               Text\n",
      "98055  98055  There are some people in this world who really...\n",
      "98056  98056  Very aromatic; equally good, if not better, th...\n",
      "98057  98057  These are seriously great. I just bought a sec...\n",
      "98058  98058  Fresh and tasty corn.  I just got back into ma...\n",
      "98059  98059  this is the most delicious flavor of coffee an...\n",
      "98060  98060  I decided to order these gelatins because my d...\n",
      "98061  98061  It is the same as the spaghetti. It tastes goo...\n",
      "98062  98062  My whole family loves this product, I find tha...\n",
      "98063  98063  I'm a big fan of the higher end blancos, serve...\n",
      "98064  98064  Sugar is toxic. Why wouldn't anyone use Stevia...\n"
     ]
    }
   ],
   "source": [
    "# Manual English translation\n",
    "english_translation = \"I decided to order these gelatins because my daughter went to school and wants sweets. Very convenient packaging. Just the right amount of candy to eat during the break.\"\n",
    "\n",
    "test_df.loc[98060, 'Text'] = english_translation\n",
    "print(test_df.iloc[98055:98065])"
   ]
  },
  {
   "cell_type": "code",
   "execution_count": null,
   "id": "b9897c9f-317b-4dd5-84cc-bce87ce3db19",
   "metadata": {},
   "outputs": [],
   "source": [
    "lemmatizer = WordNetLemmatizer()\n",
    "\n",
    "def get_wordnet_pos(word):\n",
    "    \"\"\"Converts POS tags to a format recognized by WordNet lemmatizer.\"\"\"\n",
    "    tag = pos_tag([word])[0][1][0].upper()\n",
    "    tag_dict = {\"J\": wordnet.ADJ, \"N\": wordnet.NOUN, \"V\": wordnet.VERB, \"R\": wordnet.ADV}\n",
    "    return tag_dict.get(tag, wordnet.NOUN)\n",
    "\n",
    "def preprocess_text(df, text_column='Text'):\n",
    "    \"\"\"\n",
    "    Preprocesses text data by:\n",
    "    - Converting to lowercase\n",
    "    - Removing punctuation\n",
    "    - Removing HTML and URLs\n",
    "    - Removing digits\n",
    "    - Expanding contractions\n",
    "    - Removing stopwords\n",
    "    - Tokenizing\n",
    "    - Lemmatizing\n",
    "    \n",
    "    Args:\n",
    "        df (pd.DataFrame): DataFrame containing text data.\n",
    "        text_column (str): Name of the column containing text.\n",
    "    \n",
    "    Returns:\n",
    "        pd.DataFrame: Processed DataFrame with a new column 'Text_Processed'.\n",
    "    \"\"\"\n",
    "    df = df.copy()\n",
    "    \n",
    "    df['Text_Processed'] = df[text_column].replace(r'<a\\s+href=\"http[^\"]*\">|</a>', '', regex=True)\n",
    "    \n",
    "    df['Text_Processed'] = df['Text_Processed'].astype(str).str.lower()\n",
    "    \n",
    "    df['Text_Processed'] = df['Text_Processed'].str.translate(str.maketrans('', '', string.punctuation))\n",
    "    \n",
    "    # Remove digits\n",
    "    df['Text_Processed'] = df['Text_Processed'].replace(r'\\d+', '', regex=True)\n",
    "    \n",
    "    # Expand contractions and remove stopwords\n",
    "    stop_words = set(stopwords.words('english'))\n",
    "    def expand_and_remove_stopwords(text):\n",
    "        expanded_text = contractions.fix(text)\n",
    "        words = expanded_text.split()\n",
    "        return ' '.join([word for word in words if word.lower() not in stop_words])\n",
    "    \n",
    "    df['Text_Processed'] = df['Text_Processed'].apply(expand_and_remove_stopwords)\n",
    "    \n",
    "    # Tokenization and Lemmatization\n",
    "    def tokenize_and_lemmatize(text):\n",
    "        tokens = word_tokenize(text)\n",
    "        return ' '.join([lemmatizer.lemmatize(word, get_wordnet_pos(word)) for word in tokens])\n",
    "    \n",
    "    df['Text_Processed'] = df['Text_Processed'].apply(tokenize_and_lemmatize)\n",
    "    \n",
    "    # Save to new CSV file\n",
    "    df.to_csv('test_processed2.csv', index=False)\n",
    "    return df\n",
    "\n",
    "test_df = preprocess_text(test_df)"
   ]
  },
  {
   "cell_type": "code",
   "execution_count": null,
   "id": "6a7fc318-34db-4b17-a809-a2fa3b82fecb",
   "metadata": {},
   "outputs": [],
   "source": []
  }
 ],
 "metadata": {
  "kernelspec": {
   "display_name": "Python 3 (ipykernel)",
   "language": "python",
   "name": "python3"
  },
  "language_info": {
   "codemirror_mode": {
    "name": "ipython",
    "version": 3
   },
   "file_extension": ".py",
   "mimetype": "text/x-python",
   "name": "python",
   "nbconvert_exporter": "python",
   "pygments_lexer": "ipython3",
   "version": "3.12.2"
  }
 },
 "nbformat": 4,
 "nbformat_minor": 5
}
